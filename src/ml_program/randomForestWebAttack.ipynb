{
 "cells": [
  {
   "cell_type": "code",
   "execution_count": null,
   "metadata": {
    "collapsed": true
   },
   "outputs": [],
   "source": [
    "import os\n",
    "from joblib import dump, load\n",
    "from sklearn.model_selection import train_test_split\n",
    "from sklearn import tree\n",
    "from sklearn.ensemble import RandomForestClassifier\n",
    "from sklearn.metrics import classification_report, confusion_matrix, ConfusionMatrixDisplay\n",
    "import utilities as util\n",
    "import numpy as np\n",
    "from matplotlib import pyplot as plt"
   ]
  },
  {
   "cell_type": "markdown",
   "source": [
    "define backup model file"
   ],
   "metadata": {
    "collapsed": false
   }
  },
  {
   "cell_type": "code",
   "execution_count": null,
   "outputs": [],
   "source": [
    "MODEL_FILE = 'randomForest.WebAttack.joblib'"
   ],
   "metadata": {
    "collapsed": false
   }
  },
  {
   "cell_type": "markdown",
   "source": [
    "The list of features for detecting bruteforce (FTP/SSH) attacks."
   ],
   "metadata": {
    "collapsed": false
   }
  },
  {
   "cell_type": "code",
   "execution_count": null,
   "outputs": [],
   "source": [
    "WEBATTACK_FEATURES = ['Dst Port',\n",
    "                      'Protocol',\n",
    "                      'Flow Duration',\n",
    "                      'Tot Fwd Pkts',\n",
    "                      'Tot Bwd Pkts',\n",
    "                      'TotLen Fwd Pkts',\n",
    "                      'TotLen Bwd Pkts',\n",
    "                      'Flow Byts/s',\n",
    "                      'Flow Pkts/s',\n",
    "                      'Fwd IAT Tot',\n",
    "                      'Bwd IAT Tot',\n",
    "                      'Fwd PSH Flags',\n",
    "                      'Bwd PSH Flags',\n",
    "                      'Fwd URG Flags',\n",
    "                      'Bwd URG Flags',\n",
    "                      'Fwd Header Len',\n",
    "                      'Bwd Header Len',\n",
    "                      'Fwd Pkts/s',\n",
    "                      'Bwd Pkts/s',\n",
    "                      'FIN Flag Cnt',\n",
    "                      'SYN Flag Cnt',\n",
    "                      'RST Flag Cnt',\n",
    "                      'PSH Flag Cnt',\n",
    "                      'ACK Flag Cnt',\n",
    "                      'URG Flag Cnt',\n",
    "                      'CWE Flag Cnt',\n",
    "                      'ECE Flag Cnt',\n",
    "                      'Down/Up Ratio',\n",
    "                      'Subflow Fwd Pkts',\n",
    "                      'Subflow Fwd Byts',\n",
    "                      'Subflow Bwd Pkts',\n",
    "                      'Subflow Bwd Byts',\n",
    "                      'Init Fwd Win Byts',\n",
    "                      'Init Bwd Win Byts',\n",
    "                      'Fwd Act Data Pkts',\n",
    "                      'Fwd Seg Size Min',\n",
    "                      'Active Mean',\n",
    "                      'Active Std',\n",
    "                      'Active Max',\n",
    "                      'Active Min',\n",
    "                      'Idle Mean',\n",
    "                      'Idle Std',\n",
    "                      'Idle Max',\n",
    "                      'Idle Min',\n",
    "                      ]\n",
    "WEBATTACK_FEATURES_V2 = ['Destination Port', 'Protocol', 'Flow Duration', 'Total Fwd Packets',\n",
    "                         'Total Backward Packets', 'Total Length of Fwd Packets',\n",
    "                         'Total Length of Bwd Packets', 'Fwd Packet Length Max',\n",
    "                         'Fwd Packet Length Min', 'Fwd Packet Length Mean', 'Fwd Packet Length Std',\n",
    "                         'Bwd Packet Length Max', 'Bwd Packet Length Min', 'Bwd Packet Length Mean',\n",
    "                         'Bwd Packet Length Std', 'Flow Bytes/s', 'Flow Packets/s', 'Flow IAT Mean',\n",
    "                         'Flow IAT Std', 'Flow IAT Max', 'Flow IAT Min', 'Fwd IAT Total',\n",
    "                         'Fwd IAT Mean', 'Fwd IAT Std', 'Fwd IAT Max', 'Fwd IAT Min', 'Bwd IAT Total',\n",
    "                         'Bwd IAT Mean', 'Bwd IAT Std', 'Bwd IAT Max', 'Bwd IAT Min',\n",
    "                         'Fwd Header Length', 'Bwd Header Length', 'Fwd Packets/s', 'Bwd Packets/s',\n",
    "                         'Min Packet Length', 'Max Packet Length', 'Packet Length Mean',\n",
    "                         'Packet Length Std', 'Packet Length Variance', 'PSH Flag Count',\n",
    "                         'Avg Packet Size', 'Avg Fwd Segment Size', 'Avg Bwd Segment Size',\n",
    "                         'Subflow Fwd Packets', 'Subflow Fwd Bytes', 'Subflow Bwd Packets',\n",
    "                         'Subflow Bwd Bytes', 'Init Fwd Win Byts', 'Init Bwd Win Byts',\n",
    "                         'Fwd Act Data Pkts', 'Fwd Seg Size Min', 'Active Mean', 'Active Std',\n",
    "                         'Active Max', 'Active Min', 'Idle Mean', 'Idle Std', 'Idle Max', 'Idle Min']"
   ],
   "metadata": {
    "collapsed": false
   }
  },
  {
   "cell_type": "markdown",
   "source": [
    "Craft the default specific path to the resources folder which holds the training and testing data"
   ],
   "metadata": {
    "collapsed": false
   }
  },
  {
   "cell_type": "code",
   "execution_count": null,
   "outputs": [],
   "source": [
    "st_path = os.path.join(os.getcwd(), 'resources', 'TrafficLabelling')\n",
    "# Specify the training file\n",
    "# Webattacks\n",
    "st_file = 'Friday-23-02-2018_TrafficForML_CICFlowMeter.csv'\n",
    "st_file_2 = 'Thursday-WorkingHours-Morning-WebAttacks.pcap_ISCX.csv'\n",
    "# st_file_2 = 'Thursday-22-02-2018_TrafficForML_CICFlowMeter.csv'\n",
    "# DDos\n",
    "# st_file = 'Friday-WorkingHours-Afternoon-DDos.pcap_ISCX.csv'\n",
    "# Brute force\n",
    "# st_file_2 = 'Wednesday-14-02-2018_TrafficForML_CICFlowMeter.csv'\n",
    "# st_file = 'Tuesday-WorkingHours.pcap_ISCX.csv'\n",
    "# Misc\n",
    "# st_file = 'Thursday-WorkingHours-Afternoon-Infilteration.pcap_ISCX.csv'\n",
    "# st_file = 'Friday-WorkingHours-Afternoon-PortScan.pcap_ISCX.csv'\n",
    "# st_file = 'Friday-WorkingHours-Morning.pcap_ISCX.csv'\n",
    "# st_file = 'Monday-WorkingHours.pcap_ISCX.csv'\n",
    "# st_file = 'Wednesday-workingHours.pcap_ISCX.csv'\n",
    "# encoding = 'cp1252'\n",
    "encoding = 'utf_8'"
   ],
   "metadata": {
    "collapsed": false
   }
  },
  {
   "cell_type": "markdown",
   "source": [
    "# MODELING\n",
    "--------"
   ],
   "metadata": {
    "collapsed": false
   }
  },
  {
   "cell_type": "markdown",
   "source": [
    "If using a pre-trained model:"
   ],
   "metadata": {
    "collapsed": false
   }
  },
  {
   "cell_type": "code",
   "execution_count": null,
   "outputs": [],
   "source": [
    "# Load pretrained Decision Tree Classifier\n",
    "clf = load(MODEL_FILE)\n",
    "# New file test\n",
    "X_test, y_test, test_target_names = util.prep_pipeline(os.path.join(st_path, st_file),\n",
    "                                                       WEBATTACK_FEATURES_V2,\n",
    "                                                       encoding)\n",
    "# Make predictions\n",
    "prediction_test = clf.predict(X_test)\n",
    "print('*** Classification Load Test Report ***\\n{}\\n******'.format(classification_report(y_test,\n",
    "                                                                                         prediction_test,\n",
    "                                                                                         target_names=test_target_names)\n",
    "                                                                   )\n",
    "      )"
   ],
   "metadata": {
    "collapsed": false
   }
  },
  {
   "cell_type": "markdown",
   "source": [
    "**OR** Train a new model:"
   ],
   "metadata": {
    "collapsed": false
   }
  },
  {
   "cell_type": "code",
   "execution_count": null,
   "outputs": [],
   "source": [
    "X_data, y_data, target_names = util.prep_pipeline(os.path.join(st_path, st_file),\n",
    "                                                  WEBATTACK_FEATURES_V2,\n",
    "                                                  encoding)"
   ],
   "metadata": {
    "collapsed": false
   }
  },
  {
   "cell_type": "markdown",
   "source": [
    "if you need to resample the dataset"
   ],
   "metadata": {
    "collapsed": false
   }
  },
  {
   "cell_type": "code",
   "execution_count": null,
   "outputs": [],
   "source": [
    "X_data, y_data = util.resample(X_data, y_data)"
   ],
   "metadata": {
    "collapsed": false
   }
  },
  {
   "cell_type": "markdown",
   "source": [
    "# Build new training data"
   ],
   "metadata": {
    "collapsed": false
   }
  },
  {
   "cell_type": "code",
   "execution_count": null,
   "outputs": [],
   "source": [
    "X_train, X_test, y_train, y_test = train_test_split(X_data,\n",
    "                                                    y_data,\n",
    "                                                    test_size=0.3,\n",
    "                                                    random_state=42)\n",
    "X_data, y_data = None, None\n",
    "# Training the model\n",
    "# Decision Tree Classifier - This is the key part of the code.\n",
    "clf = RandomForestClassifier()\n",
    "clf.fit(X_train, y_train)\n",
    "dump(clf, MODEL_FILE)\n",
    "\n",
    "# Testing the Model - Predictions and Evaluations\n",
    "prediction_test = clf.predict(X_test)\n",
    "X_test = None\n",
    "print('*** Classification TRAIN Report ***\\n{}\\n******'.format(classification_report(y_test,\n",
    "                                                                                     prediction_test,\n",
    "                                                                                     target_names=target_names)))"
   ],
   "metadata": {
    "collapsed": false
   }
  },
  {
   "cell_type": "markdown",
   "source": [
    "# Testing\n",
    "--------------"
   ],
   "metadata": {
    "collapsed": false
   }
  },
  {
   "cell_type": "code",
   "execution_count": null,
   "outputs": [],
   "source": [
    "test_features, test_targets, test_target_names = util.prep_pipeline(os.path.join(st_path, st_file_2),\n",
    "                                                                    WEBATTACK_FEATURES_V2,\n",
    "                                                                    encoding)\n",
    "# Make predictions\n",
    "prediction_test = clf.predict(test_features)\n",
    "print('*** Classification RUN Report ***\\n{}\\n******'.format(classification_report(test_targets,\n",
    "                                                                                   prediction_test,\n",
    "                                                                                   target_names=test_target_names)))"
   ],
   "metadata": {
    "collapsed": false
   }
  }
 ],
 "metadata": {
  "kernelspec": {
   "display_name": "Python 3",
   "language": "python",
   "name": "python3"
  },
  "language_info": {
   "codemirror_mode": {
    "name": "ipython",
    "version": 2
   },
   "file_extension": ".py",
   "mimetype": "text/x-python",
   "name": "python",
   "nbconvert_exporter": "python",
   "pygments_lexer": "ipython2",
   "version": "2.7.6"
  }
 },
 "nbformat": 4,
 "nbformat_minor": 0
}
