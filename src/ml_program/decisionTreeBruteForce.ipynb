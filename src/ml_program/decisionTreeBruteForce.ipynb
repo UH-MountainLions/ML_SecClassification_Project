{
 "cells": [
  {
   "cell_type": "markdown",
   "source": [
    "Import all required Libraries"
   ],
   "metadata": {
    "collapsed": false
   }
  },
  {
   "cell_type": "code",
   "execution_count": 1,
   "outputs": [],
   "source": [
    "import os\n",
    "from joblib import dump, load\n",
    "from sklearn.model_selection import train_test_split\n",
    "from sklearn import tree\n",
    "from sklearn.tree import DecisionTreeClassifier\n",
    "from sklearn.metrics import classification_report, confusion_matrix, ConfusionMatrixDisplay\n",
    "import utilities as util\n",
    "import numpy as np\n",
    "from matplotlib import pyplot as plt"
   ],
   "metadata": {
    "collapsed": false,
    "ExecuteTime": {
     "start_time": "2023-05-01T11:54:18.289922Z",
     "end_time": "2023-05-01T11:54:41.855030Z"
    }
   }
  },
  {
   "cell_type": "markdown",
   "source": [
    "Name the model_file"
   ],
   "metadata": {
    "collapsed": false
   }
  },
  {
   "cell_type": "code",
   "execution_count": 2,
   "outputs": [],
   "source": [
    "MODEL_FILE = 'decisionTree.BruteForce.joblib'"
   ],
   "metadata": {
    "collapsed": false,
    "ExecuteTime": {
     "start_time": "2023-05-01T11:54:41.854030Z",
     "end_time": "2023-05-01T11:54:41.877574Z"
    }
   }
  },
  {
   "cell_type": "markdown",
   "source": [
    "Define Features to use for ML model"
   ],
   "metadata": {
    "collapsed": false
   }
  },
  {
   "cell_type": "code",
   "execution_count": 3,
   "outputs": [],
   "source": [
    "# The list of features for detecting bruteforce (FTP/SSH) attacks.\n",
    "# BRUTEFORCE_V1\n",
    "BRUTEFORCE_FEATURES = ['Fwd Packet Length Mean',\n",
    "                       'Down/Up Ratio',\n",
    "                       'Fwd Packet Length Max',\n",
    "                       'Fwd Header Length',\n",
    "                       'Bwd Packet Length Mean',\n",
    "                       'Flow IAT Max',\n",
    "                       'Fwd Packet Length Min',\n",
    "                       'Packet Length Mean',\n",
    "                       'Fwd Seg Size Min',\n",
    "                       'Bwd IAT Min',\n",
    "                       'Flow Packets/s',\n",
    "                       'Total Length of Bwd Packets',\n",
    "                       'Bwd Packet Length Min',\n",
    "                       'Fwd IAT Max',\n",
    "                       'Idle Std',\n",
    "                       'Total Fwd Packets',\n",
    "                       'Subflow Bwd Packets',\n",
    "                       'Bwd IAT Mean',\n",
    "                       'Fwd Packet Length Std',\n",
    "                       'Fwd IAT Total',\n",
    "                       'Init Fwd Win Byts',\n",
    "                       'Bwd Packets/s',\n",
    "                       'Flow IAT Min',\n",
    "                       'Idle Min',\n",
    "                       'Packet Length Variance',\n",
    "                       'Subflow Fwd Packets',\n",
    "                       'Fwd IAT Min',\n",
    "                       'Avg Packet Size',\n",
    "                       'Fwd IAT Mean',\n",
    "                       'Fwd Packets/s',\n",
    "                       'Packet Length Std',\n",
    "                       'Total Length of Fwd Packets',\n",
    "                       'Bwd Packet Length Max',\n",
    "                       'Max Packet Length',\n",
    "                       'Subflow Fwd Bytes',\n",
    "                       'Fwd Act Data Pkts',\n",
    "                       'Active Max',\n",
    "                       'Min Packet Length',\n",
    "                       'Active Min',\n",
    "                       'Protocol',\n",
    "                       'Total Backward Packets',\n",
    "                       'Flow Bytes/s',\n",
    "                       'Bwd IAT Max',\n",
    "                       'Idle Max',\n",
    "                       'Bwd IAT Total',\n",
    "                       'Avg Fwd Segment Size',\n",
    "                       'ACK Flag Count',\n",
    "                       'Active Mean',\n",
    "                       'Flow Duration',\n",
    "                       'Fwd IAT Std',\n",
    "                       'Bwd Packet Length Std',\n",
    "                       'Bwd Header Length',\n",
    "                       'Avg Bwd Segment Size',\n",
    "                       'Active Std',\n",
    "                       'Bwd IAT Std',\n",
    "                       'PSH Flag Count',\n",
    "                       'Subflow Bwd Bytes',\n",
    "                       'Flow IAT Mean',\n",
    "                       'Destination Port',\n",
    "                       'Flow IAT Std',\n",
    "                       'Idle Mean'\n",
    "                       ]\n",
    "# BRUTEFORCE_V3\n",
    "BRUTEFORCE_FEATURES_V3 = ['Destination Port', 'Protocol', 'Flow Duration', 'Total Fwd Packets',\n",
    "                          'Total Backward Packets', 'Total Length of Fwd Packets',\n",
    "                          'Total Length of Bwd Packets', 'Fwd Packet Length Max',\n",
    "                          'Fwd Packet Length Min', 'Fwd Packet Length Mean', 'Fwd Packet Length Std',\n",
    "                          'Bwd Packet Length Max', 'Bwd Packet Length',\n",
    "                          'Min', 'Bwd Packet Length Mean',\n",
    "                          'Bwd Packet Length Std', 'Flow Bytes/s', 'Flow Packets/s', 'Flow IAT Mean',\n",
    "                          'Flow IAT Std', 'Flow IAT Max', 'Flow IAT Min', 'Fwd IAT Total',\n",
    "                          'Fwd IAT Mean', 'Fwd IAT Std', 'Fwd IAT Max', 'Fwd IAT Min', 'Bwd IAT Total',\n",
    "                          'Bwd IAT Mean', 'Bwd IAT Std', 'Bwd IAT Max', 'Bwd IAT Min',\n",
    "                          'Fwd Header Length', 'Bwd Header Length', 'Fwd Packets/s', 'Bwd Packets/s',\n",
    "                          'Min Packet Length', 'Max Packet Length', 'Packet Length Mean',\n",
    "                          'Packet Length Std', 'Packet Length Variance', 'PSH Flag Count',\n",
    "                          'ACK Flag Count', 'URG Flag Count', 'Down/Up Ratio', 'Avg Packet Size',\n",
    "                          'Avg Fwd Segment Size', 'Avg Bwd Segment Size', 'Subflow Fwd Packets',\n",
    "                          'Subflow Fwd Bytes', 'Subflow Bwd Packets', 'Subflow Bwd Bytes',\n",
    "                          'Init Fwd Win Byts', 'Init Bwd Win Byts', 'Fwd Act Data Pkts',\n",
    "                          'Fwd Seg Size Min', 'Active Mean', 'Active Std', 'Active Max', 'Active Min',\n",
    "                          'Idle Mean', 'Idle Std', 'Idle Max', 'Idle Min']"
   ],
   "metadata": {
    "collapsed": false,
    "ExecuteTime": {
     "start_time": "2023-05-01T11:54:41.877574Z",
     "end_time": "2023-05-01T11:54:41.883576Z"
    }
   }
  },
  {
   "cell_type": "markdown",
   "source": [
    "Craft the default specific path to the resources folder which holds the training and testing data"
   ],
   "metadata": {
    "collapsed": false
   }
  },
  {
   "cell_type": "code",
   "execution_count": 4,
   "outputs": [],
   "source": [
    "st_path = os.path.join(os.getcwd(), 'resources', 'TrafficLabelling')\n",
    "# Specify the training file\n",
    "# Webattacks\n",
    "# st_file = 'Friday-23-02-2018_TrafficForML_CICFlowMeter.csv'\n",
    "# st_file_2 = 'Thursday-WorkingHours-Morning-WebAttacks.pcap_ISCX.csv'\n",
    "# DDos\n",
    "# st_file = 'Friday-WorkingHours-Afternoon-DDos.pcap_ISCX.csv'\n",
    "# Brute force\n",
    "st_file_2 = 'Wednesday-14-02-2018_TrafficForML_CICFlowMeter.csv'\n",
    "st_file = 'Tuesday-WorkingHours.pcap_ISCX.csv'\n",
    "# Misc\n",
    "# st_file = 'Thursday-WorkingHours-Afternoon-Infilteration.pcap_ISCX.csv'\n",
    "# st_file = 'Friday-WorkingHours-Afternoon-PortScan.pcap_ISCX.csv'\n",
    "# st_file = 'Friday-WorkingHours-Morning.pcap_ISCX.csv'\n",
    "# st_file = 'Monday-WorkingHours.pcap_ISCX.csv'\n",
    "# st_file = 'Wednesday-workingHours.pcap_ISCX.csv'\n",
    "# encoding = 'cp1252'\n",
    "encoding = 'utf_8'"
   ],
   "metadata": {
    "collapsed": false,
    "ExecuteTime": {
     "start_time": "2023-05-01T11:54:41.884576Z",
     "end_time": "2023-05-01T11:54:41.899579Z"
    }
   }
  },
  {
   "cell_type": "markdown",
   "source": [
    "# Training\n",
    "--------\n",
    "Use this if retraining the model"
   ],
   "metadata": {
    "collapsed": false
   }
  },
  {
   "cell_type": "code",
   "execution_count": 0,
   "outputs": [],
   "source": [
    "X_train, y_train, target_names = util.prep_pipeline(os.path.join(st_path, st_file),\n",
    "                                                    BRUTEFORCE_FEATURES,\n",
    "                                                    encoding)"
   ],
   "metadata": {
    "collapsed": false
   }
  },
  {
   "cell_type": "markdown",
   "source": [
    "Use this to Resample the dataset"
   ],
   "metadata": {
    "collapsed": false
   }
  },
  {
   "cell_type": "code",
   "execution_count": null,
   "outputs": [],
   "source": [
    "X_train, y_train = util.resample(X_train, y_train)"
   ],
   "metadata": {
    "collapsed": false
   }
  },
  {
   "cell_type": "code",
   "execution_count": 5,
   "outputs": [
    {
     "ename": "NameError",
     "evalue": "name 'RESAMPLE' is not defined",
     "output_type": "error",
     "traceback": [
      "\u001B[1;31m---------------------------------------------------------------------------\u001B[0m",
      "\u001B[1;31mNameError\u001B[0m                                 Traceback (most recent call last)",
      "Cell \u001B[1;32mIn[5], line 4\u001B[0m\n\u001B[0;32m      1\u001B[0m X_train, y_train, target_names \u001B[38;5;241m=\u001B[39m util\u001B[38;5;241m.\u001B[39mprep_pipeline(os\u001B[38;5;241m.\u001B[39mpath\u001B[38;5;241m.\u001B[39mjoin(st_path, st_file),\n\u001B[0;32m      2\u001B[0m                                                     BRUTEFORCE_FEATURES,\n\u001B[0;32m      3\u001B[0m                                                     encoding)\n\u001B[1;32m----> 4\u001B[0m \u001B[38;5;28;01mif\u001B[39;00m \u001B[43mRESAMPLE\u001B[49m:\n\u001B[0;32m      5\u001B[0m     X_train, y_train \u001B[38;5;241m=\u001B[39m util\u001B[38;5;241m.\u001B[39mresample(X_train, y_train)\n\u001B[0;32m      6\u001B[0m \u001B[38;5;66;03m# Build new training data\u001B[39;00m\n",
      "\u001B[1;31mNameError\u001B[0m: name 'RESAMPLE' is not defined"
     ]
    }
   ],
   "source": [
    "# Build new training data\n",
    "X_train, X_test, y_train, y_test = train_test_split(X_train,\n",
    "                                                    y_train,\n",
    "                                                    test_size=0.33,\n",
    "                                                    random_state=42)\n",
    "# Training the model\n",
    "# Decision Tree Classifier - This is the key part of the code.\n",
    "clf = DecisionTreeClassifier()\n",
    "clf.fit(X_train, y_train)\n",
    "dump(clf, MODEL_FILE)\n",
    "\n",
    "# Testing the Model - Predictions and Evaluations\n",
    "prediction_test = clf.predict(X_test)\n",
    "print('*** Classification TRAIN Report ***\\n{}\\n******'.format(classification_report(y_test,\n",
    "                                                                                     prediction_test,\n",
    "                                                                                     target_names=target_names)))"
   ],
   "metadata": {
    "collapsed": false
   }
  },
  {
   "cell_type": "markdown",
   "source": [
    "## Use existing Model\n",
    "Use this if you have a model already"
   ],
   "metadata": {
    "collapsed": false
   }
  },
  {
   "cell_type": "code",
   "execution_count": null,
   "outputs": [],
   "source": [
    " # Load pretrained Decision Tree Classifier\n",
    "clf = load(MODEL_FILE)\n",
    "# New file test\n",
    "X_test, y_test, test_target_names = util.prep_pipeline(os.path.join(st_path, st_file),\n",
    "                                                       BRUTEFORCE_FEATURES,\n",
    "                                                       encoding)\n",
    "# Make predictions\n",
    "prediction_test = clf.predict(X_test)\n",
    "print('*** Classification Load Test Report ***\\n{}\\n******'.format(classification_report(y_test,\n",
    "                                                                                         prediction_test,\n",
    "                                                                                         target_names=test_target_names)\n",
    "                                                                   )\n",
    "      )"
   ],
   "metadata": {
    "collapsed": false
   }
  },
  {
   "cell_type": "markdown",
   "source": [
    "# Testing\n",
    "---------\n",
    "\n",
    "New file test use"
   ],
   "metadata": {
    "collapsed": false
   }
  },
  {
   "cell_type": "code",
   "execution_count": null,
   "outputs": [],
   "source": [
    "\n",
    "test_features, test_targets, test_target_names = util.prep_pipeline(os.path.join(st_path, st_file_2),\n",
    "                                                                    BRUTEFORCE_FEATURES,\n",
    "                                                                    encoding)\n",
    "# Make predictions\n",
    "prediction_test = clf.predict(test_features)\n",
    "print('*** Classification RUN Report ***\\n{}\\n******'.format(classification_report(test_targets,\n",
    "                                                                                   prediction_test,\n",
    "                                                                                   target_names=test_target_names)))"
   ],
   "metadata": {
    "collapsed": false
   }
  }
 ],
 "metadata": {
  "kernelspec": {
   "display_name": "Python 3",
   "language": "python",
   "name": "python3"
  },
  "language_info": {
   "codemirror_mode": {
    "name": "ipython",
    "version": 2
   },
   "file_extension": ".py",
   "mimetype": "text/x-python",
   "name": "python",
   "nbconvert_exporter": "python",
   "pygments_lexer": "ipython2",
   "version": "2.7.6"
  }
 },
 "nbformat": 4,
 "nbformat_minor": 0
}
