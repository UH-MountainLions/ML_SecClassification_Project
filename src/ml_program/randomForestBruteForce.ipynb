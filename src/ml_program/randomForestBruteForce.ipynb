{
 "cells": [
  {
   "cell_type": "code",
   "execution_count": null,
   "metadata": {
    "collapsed": true
   },
   "outputs": [],
   "source": [
    "import os\n",
    "from joblib import dump, load\n",
    "from sklearn.model_selection import train_test_split\n",
    "from sklearn import tree\n",
    "from sklearn.ensemble import RandomForestClassifier\n",
    "from sklearn.metrics import classification_report, confusion_matrix, ConfusionMatrixDisplay\n",
    "import utilities as util\n",
    "import numpy as np\n",
    "from matplotlib import pyplot as plt"
   ]
  },
  {
   "cell_type": "markdown",
   "source": [
    "Define backup model file"
   ],
   "metadata": {
    "collapsed": false
   }
  },
  {
   "cell_type": "code",
   "execution_count": null,
   "outputs": [],
   "source": [
    "MODEL_FILE = 'randomForest.BruteForce.joblib'"
   ],
   "metadata": {
    "collapsed": false
   }
  },
  {
   "cell_type": "markdown",
   "source": [
    "The list of features for detecting bruteforce (FTP/SSH) attacks."
   ],
   "metadata": {
    "collapsed": false
   }
  },
  {
   "cell_type": "code",
   "execution_count": null,
   "outputs": [],
   "source": [
    "# BRUTEFORCE_V3\n",
    "BRUTEFORCE_FEATURES = ['Fwd Packet Length Mean',\n",
    "                       'Down/Up Ratio',\n",
    "                       'Fwd Packet Length Max',\n",
    "                       'Fwd Header Length',\n",
    "                       'Bwd Packet Length Mean',\n",
    "                       'Flow IAT Max',\n",
    "                       'Fwd Packet Length Min',\n",
    "                       'Packet Length Mean',\n",
    "                       'Fwd Seg Size Min',\n",
    "                       'Bwd IAT Min',\n",
    "                       'Flow Packets/s',\n",
    "                       'Total Length of Bwd Packets',\n",
    "                       'Bwd Packet Length Min',\n",
    "                       'Fwd IAT Max',\n",
    "                       'Idle Std',\n",
    "                       'Total Fwd Packets',\n",
    "                       'Subflow Bwd Packets',\n",
    "                       'Bwd IAT Mean',\n",
    "                       'Fwd Packet Length Std',\n",
    "                       'Fwd IAT Total',\n",
    "                       'Init Fwd Win Byts',\n",
    "                       'Bwd Packets/s',\n",
    "                       'Flow IAT Min',\n",
    "                       'Idle Min',\n",
    "                       'Packet Length Variance',\n",
    "                       'Subflow Fwd Packets',\n",
    "                       'Fwd IAT Min',\n",
    "                       'Avg Packet Size',\n",
    "                       'Fwd IAT Mean',\n",
    "                       'Fwd Packets/s',\n",
    "                       'Packet Length Std',\n",
    "                       'Total Length of Fwd Packets',\n",
    "                       'Bwd Packet Length Max',\n",
    "                       'Max Packet Length',\n",
    "                       'Subflow Fwd Bytes',\n",
    "                       'Fwd Act Data Pkts',\n",
    "                       'Active Max',\n",
    "                       'Min Packet Length',\n",
    "                       'Active Min',\n",
    "                       'Protocol',\n",
    "                       'Total Backward Packets',\n",
    "                       'Flow Bytes/s',\n",
    "                       'Bwd IAT Max',\n",
    "                       'Idle Max',\n",
    "                       'Bwd IAT Total',\n",
    "                       'Avg Fwd Segment Size',\n",
    "                       'ACK Flag Count',\n",
    "                       'Active Mean',\n",
    "                       'Flow Duration',\n",
    "                       'Fwd IAT Std',\n",
    "                       'Bwd Packet Length Std',\n",
    "                       'Bwd Header Length',\n",
    "                       'Avg Bwd Segment Size',\n",
    "                       'Active Std',\n",
    "                       'Bwd IAT Std',\n",
    "                       'PSH Flag Count',\n",
    "                       'Subflow Bwd Bytes',\n",
    "                       'Flow IAT Mean',\n",
    "                       'Destination Port',\n",
    "                       'Flow IAT Std',\n",
    "                       'Idle Mean'\n",
    "                       ]"
   ],
   "metadata": {
    "collapsed": false
   }
  },
  {
   "cell_type": "markdown",
   "source": [
    "Craft the default specific path to the resources folder which holds the training and testing data"
   ],
   "metadata": {
    "collapsed": false
   }
  },
  {
   "cell_type": "code",
   "execution_count": null,
   "outputs": [],
   "source": [
    "st_path = os.path.join(os.getcwd(), 'resources', 'TrafficLabelling')\n",
    "# Specify the training file\n",
    "# Webattacks\n",
    "# st_file = 'Friday-23-02-2018_TrafficForML_CICFlowMeter.csv'\n",
    "# st_file_2 = 'Thursday-WorkingHours-Morning-WebAttacks.pcap_ISCX.csv'\n",
    "# DDos\n",
    "# st_file = 'Friday-WorkingHours-Afternoon-DDos.pcap_ISCX.csv'\n",
    "# Brute force\n",
    "st_file_2 = 'Wednesday-14-02-2018_TrafficForML_CICFlowMeter.csv'\n",
    "st_file = 'Tuesday-WorkingHours.pcap_ISCX.csv'\n",
    "# Misc\n",
    "# st_file = 'Thursday-WorkingHours-Afternoon-Infilteration.pcap_ISCX.csv'\n",
    "# st_file = 'Friday-WorkingHours-Afternoon-PortScan.pcap_ISCX.csv'\n",
    "# st_file = 'Friday-WorkingHours-Morning.pcap_ISCX.csv'\n",
    "# st_file = 'Monday-WorkingHours.pcap_ISCX.csv'\n",
    "# st_file = 'Wednesday-workingHours.pcap_ISCX.csv'\n",
    "# encoding = 'cp1252'\n",
    "encoding = 'utf_8'"
   ],
   "metadata": {
    "collapsed": false
   }
  },
  {
   "cell_type": "markdown",
   "source": [
    "# MODELING\n",
    "----------"
   ],
   "metadata": {
    "collapsed": false
   }
  },
  {
   "cell_type": "markdown",
   "source": [
    "If using a pre-trained model:"
   ],
   "metadata": {
    "collapsed": false
   }
  },
  {
   "cell_type": "code",
   "execution_count": null,
   "outputs": [],
   "source": [
    "# Load pretrained Decision Tree Classifier\n",
    "clf = load(MODEL_FILE)\n",
    "# New file test\n",
    "X_test, y_test, test_target_names = util.prep_pipeline(os.path.join(st_path, st_file),\n",
    "                                                       BRUTEFORCE_FEATURES,\n",
    "                                                       encoding)\n",
    "# Make predictions\n",
    "prediction_test = clf.predict(X_test)\n",
    "print('*** Classification Load Test Report ***\\n{}\\n******'.format(classification_report(y_test,\n",
    "                                                                                         prediction_test,\n",
    "                                                                                         target_names=test_target_names)\n",
    "                                                                   )\n",
    "      )"
   ],
   "metadata": {
    "collapsed": false
   }
  },
  {
   "cell_type": "code",
   "execution_count": null,
   "outputs": [],
   "source": [],
   "metadata": {
    "collapsed": false
   }
  },
  {
   "cell_type": "code",
   "execution_count": null,
   "outputs": [],
   "source": [
    "X_train, y_train, target_names = util.prep_pipeline(os.path.join(st_path, st_file),\n",
    "                                                    BRUTEFORCE_FEATURES,\n",
    "                                                    encoding)"
   ],
   "metadata": {
    "collapsed": false
   }
  },
  {
   "cell_type": "markdown",
   "source": [
    "if needing to resample data"
   ],
   "metadata": {
    "collapsed": false
   }
  },
  {
   "cell_type": "code",
   "execution_count": null,
   "outputs": [],
   "source": [
    "X_train, y_train = util.resample(X_train, y_train)"
   ],
   "metadata": {
    "collapsed": false
   }
  },
  {
   "cell_type": "markdown",
   "source": [
    "Build new training data"
   ],
   "metadata": {
    "collapsed": false
   }
  },
  {
   "cell_type": "code",
   "execution_count": null,
   "outputs": [],
   "source": [
    "\n",
    "X_train, X_test, y_train, y_test = train_test_split(X_train,\n",
    "                                                    y_train,\n",
    "                                                    test_size=0.96,\n",
    "                                                    random_state=42)\n",
    "# Training the model\n",
    "# Decision Tree Classifier - This is the key part of the code.\n",
    "clf = RandomForestClassifier()\n",
    "clf.fit(X_train, y_train)\n",
    "dump(clf, MODEL_FILE)\n",
    "\n",
    "# Testing the Model - Predictions and Evaluations\n",
    "prediction_test = clf.predict(X_test)\n",
    "print('*** Classification TRAIN Report ***\\n{}\\n******'.format(classification_report(y_test,\n",
    "                                                                                     prediction_test,\n",
    "                                                                                     target_names=target_names)))"
   ],
   "metadata": {
    "collapsed": false
   }
  },
  {
   "cell_type": "markdown",
   "source": [
    "# New file test\n",
    "-----------------"
   ],
   "metadata": {
    "collapsed": false
   }
  },
  {
   "cell_type": "code",
   "execution_count": null,
   "outputs": [],
   "source": [
    "test_features, test_targets, test_target_names = util.prep_pipeline(os.path.join(st_path, st_file_2),\n",
    "                                                                    BRUTEFORCE_FEATURES,\n",
    "                                                                    encoding)\n",
    "# Make predictions\n",
    "prediction_test = clf.predict(test_features)\n",
    "print('*** Classification RUN Report ***\\n{}\\n******'.format(classification_report(test_targets,\n",
    "                                                                                   prediction_test,\n",
    "                                                                                   target_names=test_target_names)))"
   ],
   "metadata": {
    "collapsed": false
   }
  }
 ],
 "metadata": {
  "kernelspec": {
   "display_name": "Python 3",
   "language": "python",
   "name": "python3"
  },
  "language_info": {
   "codemirror_mode": {
    "name": "ipython",
    "version": 2
   },
   "file_extension": ".py",
   "mimetype": "text/x-python",
   "name": "python",
   "nbconvert_exporter": "python",
   "pygments_lexer": "ipython2",
   "version": "2.7.6"
  }
 },
 "nbformat": 4,
 "nbformat_minor": 0
}
