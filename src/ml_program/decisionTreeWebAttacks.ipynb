{
 "cells": [
  {
   "cell_type": "code",
   "execution_count": 1,
   "metadata": {
    "collapsed": true,
    "ExecuteTime": {
     "start_time": "2023-05-01T12:05:08.289738Z",
     "end_time": "2023-05-01T12:05:09.757443Z"
    }
   },
   "outputs": [],
   "source": [
    "import os\n",
    "from joblib import dump, load\n",
    "import pandas as pd\n",
    "from sklearn.model_selection import train_test_split\n",
    "from sklearn.tree import DecisionTreeClassifier\n",
    "from sklearn.metrics import classification_report, confusion_matrix, ConfusionMatrixDisplay\n",
    "\n",
    "import utilities as util"
   ]
  },
  {
   "cell_type": "markdown",
   "source": [
    "Define model backup folder"
   ],
   "metadata": {
    "collapsed": false
   }
  },
  {
   "cell_type": "code",
   "execution_count": 2,
   "outputs": [],
   "source": [
    "MODEL_FILE = 'decisionTree.WebAttack.joblib'"
   ],
   "metadata": {
    "collapsed": false,
    "ExecuteTime": {
     "start_time": "2023-05-01T12:05:09.760444Z",
     "end_time": "2023-05-01T12:05:09.773447Z"
    }
   }
  },
  {
   "cell_type": "markdown",
   "source": [
    "The list of features for detecting Web Attacks."
   ],
   "metadata": {
    "collapsed": false
   }
  },
  {
   "cell_type": "code",
   "execution_count": 3,
   "outputs": [],
   "source": [
    "\n",
    "WEBATTACK_FEATURES = ['Dst Port',\n",
    "                      'Protocol',\n",
    "                      'Flow Duration',\n",
    "                      'Tot Fwd Pkts',\n",
    "                      'Tot Bwd Pkts',\n",
    "                      'TotLen Fwd Pkts',\n",
    "                      'TotLen Bwd Pkts',\n",
    "                      'Flow Byts/s',\n",
    "                      'Flow Pkts/s',\n",
    "                      'Fwd IAT Tot',\n",
    "                      'Bwd IAT Tot',\n",
    "                      'Fwd PSH Flags',\n",
    "                      'Bwd PSH Flags',\n",
    "                      'Fwd URG Flags',\n",
    "                      'Bwd URG Flags',\n",
    "                      'Fwd Header Len',\n",
    "                      'Bwd Header Len',\n",
    "                      'Fwd Pkts/s',\n",
    "                      'Bwd Pkts/s',\n",
    "                      'FIN Flag Cnt',\n",
    "                      'SYN Flag Cnt',\n",
    "                      'RST Flag Cnt',\n",
    "                      'PSH Flag Cnt',\n",
    "                      'ACK Flag Cnt',\n",
    "                      'URG Flag Cnt',\n",
    "                      'CWE Flag Cnt',\n",
    "                      'ECE Flag Cnt',\n",
    "                      'Down/Up Ratio',\n",
    "                      'Subflow Fwd Pkts',\n",
    "                      'Subflow Fwd Byts',\n",
    "                      'Subflow Bwd Pkts',\n",
    "                      'Subflow Bwd Byts',\n",
    "                      'Init Fwd Win Byts',\n",
    "                      'Init Bwd Win Byts',\n",
    "                      'Fwd Act Data Pkts',\n",
    "                      'Fwd Seg Size Min'\n",
    "                      ]\n",
    "WEBATTACK_FEATURES_V2 = ['Destination Port', 'Protocol', 'Flow Duration', 'Total Fwd Packets',\n",
    "                         'Total Backward Packets', 'Total Length of Fwd Packets',\n",
    "                         'Total Length of Bwd Packets', 'Fwd Packet Length Max',\n",
    "                         'Fwd Packet Length Min', 'Fwd Packet Length Mean', 'Fwd Packet Length Std',\n",
    "                         'Bwd Packet Length Max', 'Bwd Packet Length Min', 'Bwd Packet Length Mean',\n",
    "                         'Bwd Packet Length Std', 'Flow Bytes/s', 'Flow Packets/s', 'Flow IAT Mean',\n",
    "                         'Flow IAT Std', 'Flow IAT Max', 'Flow IAT Min', 'Fwd IAT Total',\n",
    "                         'Fwd IAT Mean', 'Fwd IAT Std', 'Fwd IAT Max', 'Fwd IAT Min', 'Bwd IAT Total',\n",
    "                         'Bwd IAT Mean', 'Bwd IAT Std', 'Bwd IAT Max', 'Bwd IAT Min',\n",
    "                         'Fwd Header Length', 'Bwd Header Length', 'Fwd Packets/s', 'Bwd Packets/s',\n",
    "                         'Min Packet Length', 'Max Packet Length', 'Packet Length Mean',\n",
    "                         'Packet Length Std', 'Packet Length Variance', 'Avg Packet Size',\n",
    "                         'Avg Fwd Segment Size', 'Avg Bwd Segment Size', 'Subflow Fwd Packets',\n",
    "                         'Subflow Fwd Bytes', 'Subflow Bwd Packets', 'Subflow Bwd Bytes',\n",
    "                         'Init Fwd Win Byts', 'Init Bwd Win Byts', 'Fwd Act Data Pkts',\n",
    "                         'Fwd Seg Size Min', 'Active Mean', 'Active Std', 'Active Max', 'Active Min',\n",
    "                         'Idle Mean', 'Idle Std', 'Idle Max', 'Idle Min']"
   ],
   "metadata": {
    "collapsed": false,
    "ExecuteTime": {
     "start_time": "2023-05-01T12:05:09.774447Z",
     "end_time": "2023-05-01T12:05:09.793996Z"
    }
   }
  },
  {
   "cell_type": "markdown",
   "source": [
    "Craft the default specific path to the resources folder which holds the training and testing data"
   ],
   "metadata": {
    "collapsed": false
   }
  },
  {
   "cell_type": "code",
   "execution_count": 4,
   "outputs": [],
   "source": [
    "st_path = os.path.join(os.getcwd(), 'resources', 'TrafficLabelling')\n",
    "# Specify the training file\n",
    "# Web Attacks\n",
    "st_file_2 = 'Friday-23-02-2018_TrafficForML_CICFlowMeter.csv'\n",
    "# st_file_2 = 'Thursday-WorkingHours-Morning-WebAttacks.pcap_ISCX.csv'\n",
    "st_file = 'Thursday-22-02-2018_TrafficForML_CICFlowMeter.csv'\n",
    "# DDos\n",
    "# st_file = 'Friday-WorkingHours-Afternoon-DDos.pcap_ISCX.csv'\n",
    "# Brute force\n",
    "# st_file = 'Wednesday-14-02-2018_TrafficForML_CICFlowMeter.csv'\n",
    "# st_file_2 = 'Tuesday-WorkingHours.pcap_ISCX.csv'\n",
    "# Misc\n",
    "# st_file = 'Thursday-WorkingHours-Afternoon-Infilteration.pcap_ISCX.csv'\n",
    "# st_file = 'Friday-WorkingHours-Afternoon-PortScan.pcap_ISCX.csv'\n",
    "# st_file = 'Friday-WorkingHours-Morning.pcap_ISCX.csv'\n",
    "# st_file = 'Monday-WorkingHours.pcap_ISCX.csv'\n",
    "# st_file = 'Wednesday-workingHours.pcap_ISCX.csv'\n",
    "# encoding = 'cp1252'\n",
    "encoding = 'utf_8'"
   ],
   "metadata": {
    "collapsed": false,
    "ExecuteTime": {
     "start_time": "2023-05-01T12:05:18.047137Z",
     "end_time": "2023-05-01T12:05:18.087273Z"
    }
   }
  },
  {
   "cell_type": "markdown",
   "source": [
    "# Training"
   ],
   "metadata": {
    "collapsed": false
   }
  },
  {
   "cell_type": "markdown",
   "source": [
    "Load **pretrained** Decision Tree Classifier"
   ],
   "metadata": {
    "collapsed": false
   }
  },
  {
   "cell_type": "code",
   "execution_count": null,
   "outputs": [],
   "source": [
    "clf = load(MODEL_FILE)\n",
    "# New file test\n",
    "X_test, y_test, test_target_names = util.prep_pipeline(os.path.join(st_path, st_file),\n",
    "                                                       WEBATTACK_FEATURES_V2,\n",
    "                                                       encoding)\n",
    "# Make predictions\n",
    "prediction_test = clf.predict(X_test)\n",
    "print('*** Classification Load Test Report ***\\n{}\\n******'.format(classification_report(y_test,\n",
    "                                                                                         prediction_test,\n",
    "                                                                                         target_names=test_target_names)\n",
    "                                                                   ))"
   ],
   "metadata": {
    "collapsed": false
   }
  },
  {
   "cell_type": "markdown",
   "source": [
    "**OR** use to Train new model"
   ],
   "metadata": {
    "collapsed": false
   }
  },
  {
   "cell_type": "code",
   "execution_count": null,
   "outputs": [],
   "source": [
    "X_train, y_train, target_names = util.prep_pipeline(os.path.join(st_path, st_file),\n",
    "                                                    WEBATTACK_FEATURES_V2,\n",
    "                                                    encoding)"
   ],
   "metadata": {
    "collapsed": false
   }
  },
  {
   "cell_type": "markdown",
   "source": [
    "If needing to RESAMPE dataset"
   ],
   "metadata": {
    "collapsed": false
   }
  },
  {
   "cell_type": "code",
   "execution_count": null,
   "outputs": [],
   "source": [
    "  X_train, y_train = util.resample(X_train, y_train)"
   ],
   "metadata": {
    "collapsed": false
   }
  },
  {
   "cell_type": "markdown",
   "source": [
    "Build new training data"
   ],
   "metadata": {
    "collapsed": false
   }
  },
  {
   "cell_type": "code",
   "execution_count": null,
   "outputs": [],
   "source": [
    "X_train, X_test, y_train, y_test = train_test_split(X_train,\n",
    "                                                    y_train,\n",
    "                                                    test_size=0.33,\n",
    "                                                    random_state=42)\n",
    "# Training the model\n",
    "# Decision Tree Classifier - This is the key part of the code.\n",
    "clf = DecisionTreeClassifier()\n",
    "clf.fit(X_train, y_train)\n",
    "dump(clf, MODEL_FILE)\n",
    "\n",
    "# Testing the Model - Predictions and Evaluations\n",
    "prediction_test = clf.predict(X_test)\n",
    "print('*** Classification TRAIN Report ***\\n{}\\n******'.format(classification_report(y_test,\n",
    "                                                                                     prediction_test,\n",
    "                                                                                     target_names=target_names)))"
   ],
   "metadata": {
    "collapsed": false
   }
  },
  {
   "cell_type": "markdown",
   "source": [
    "# Testing\n",
    "---------\n",
    "\n",
    "New file test use"
   ],
   "metadata": {
    "collapsed": false
   }
  },
  {
   "cell_type": "code",
   "execution_count": null,
   "outputs": [],
   "source": [
    "X_test, y_test, test_target_names = util.prep_pipeline(os.path.join(st_path, st_file_2),\n",
    "                                                       WEBATTACK_FEATURES_V2,\n",
    "                                                       encoding)\n",
    "# Make predictions\n",
    "prediction_test = clf.predict(X_test)\n",
    "print('*** Classification RUN Report ***\\n{}\\n******'.format(classification_report(y_test,\n",
    "                                                                                   prediction_test,\n",
    "                                                                                   target_names=test_target_names)))"
   ],
   "metadata": {
    "collapsed": false
   }
  }
 ],
 "metadata": {
  "kernelspec": {
   "display_name": "Python 3",
   "language": "python",
   "name": "python3"
  },
  "language_info": {
   "codemirror_mode": {
    "name": "ipython",
    "version": 2
   },
   "file_extension": ".py",
   "mimetype": "text/x-python",
   "name": "python",
   "nbconvert_exporter": "python",
   "pygments_lexer": "ipython2",
   "version": "2.7.6"
  }
 },
 "nbformat": 4,
 "nbformat_minor": 0
}
